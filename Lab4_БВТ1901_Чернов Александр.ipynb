{
 "cells": [
  {
   "cell_type": "markdown",
   "id": "stretch-medium",
   "metadata": {},
   "source": [
    "# Лабораторная работа №4\n",
    "## Выполнил студент группы БВТ1901 Чернов Александр\n",
    "Реализовать следующие структуры данных:\n",
    "<ul>\n",
    "    <li> <b>Стек</b> (stack): <br> \n",
    "        операции для <i>стека</i>: Инициализация, проверка на пустоту, добавление\n",
    "        нового элемента в начало, извлечение элемента из начала;\n",
    "    </li> <br> \n",
    "    <li> <b>Дек</b> (двусторонняя очередь, deque): <br>\n",
    "        Операции для <i>дека</i>: инициализация, проверка на пустоту, добавление\n",
    "        нового элемента в начало, добавление нового элемента в конец,\n",
    "        извлечение элемента из начала, извлечение элемента из конца.\n",
    "    </li>\n",
    "</ul>\n",
    "Разработать программу обработки данных, содержащихся в заранее\n",
    "подготовленном txt-файле, в соответствии с заданиями, применив\n",
    "указанную в задании структуру данных. Результат работы программы\n",
    "вывести на экран и сохранить в отдельном txt-файле.\n",
    "Оформить отчет о лабораторной работе в ipynb или pdf-файле."
   ]
  },
  {
   "cell_type": "code",
   "execution_count": 17,
   "id": "sticky-rally",
   "metadata": {},
   "outputs": [],
   "source": [
    "class Stack:\n",
    "    def __init__(self, size = 0):\n",
    "        self.size = size\n",
    "        self.arr = []\n",
    "\n",
    "    def add(self, val):\n",
    "        self.arr = self.arr + [val]\n",
    "\n",
    "    def remove(self):\n",
    "        self.arr = self.arr[:-1:]\n",
    "\n",
    "    def pop(self):\n",
    "        if len(self.arr) > 0:\n",
    "            x = self.arr[-1]\n",
    "            self.remove()\n",
    "            return x\n",
    "\n",
    "    def toString(self, inString=False):\n",
    "        if not inString:\n",
    "            for val in self.arr:\n",
    "                print(val)\n",
    "        else:\n",
    "            for val in self.arr:\n",
    "                print(val, end=\" \")\n",
    "            print()\n",
    "\n",
    "    def isEmpty(self):\n",
    "        for x in self.arr:\n",
    "            if x is not None:\n",
    "                return False\n",
    "        return True\n",
    "\n",
    "    def getPos(self, val):\n",
    "        for i in range(len(self.arr)):\n",
    "            if self.arr[i] == val:\n",
    "                return i\n",
    "        return -1\n",
    "\n",
    "    def getVal(self, index):\n",
    "        return self.arr[index]\n",
    "\n",
    "    def peek(self):\n",
    "        return self.arr[len(self.arr) - 1]\n",
    "\n",
    "    def getLength(self):\n",
    "        return len(self.arr)"
   ]
  },
  {
   "cell_type": "code",
   "execution_count": 1,
   "id": "phantom-parker",
   "metadata": {},
   "outputs": [],
   "source": [
    "from stack import Stack\n",
    "\n",
    "\n",
    "class Deque(Stack):\n",
    "    def __init__(self, size=0):\n",
    "        super().__init__(size)\n",
    "\n",
    "    def add2begin(self, val):\n",
    "        self.arr = [val] + self.arr\n",
    "\n",
    "    def removeFromStart(self):\n",
    "        self.arr = self.arr[1::]\n",
    "\n",
    "    def popStart(self):\n",
    "        x = self.arr[0]\n",
    "        self.removeFromStart()\n",
    "        return x\n"
   ]
  },
  {
   "cell_type": "markdown",
   "id": "hydraulic-management",
   "metadata": {},
   "source": [
    "### Задание №1\n",
    "Отсортировать строки файла, содержащие названия книг, в алфавитном порядке с\n",
    "использованием двух <b>деков.</b>\n"
   ]
  },
  {
   "cell_type": "code",
   "execution_count": 2,
   "id": "federal-killing",
   "metadata": {},
   "outputs": [
    {
     "name": "stdout",
     "output_type": "stream",
     "text": [
      "Божественная комедия\n",
      "Братья Карамазовы\n",
      "Государство\n",
      "Заводной апельсин\n",
      "Идиот\n",
      "Мастер и Маргарита\n",
      "Мертвые души\n",
      "На дне\n",
      "На игле\n",
      "О дивный новый мир\n",
      "Отцы и дети\n",
      "Преступление и наказание\n",
      "Трудно быть Богом\n"
     ]
    }
   ],
   "source": [
    "from deque import Deque\n",
    "import codecs\n",
    "\n",
    "\n",
    "f = codecs.open(\"task1.txt\", \"r\", \"utf_8_sig\")\n",
    "lines = f.readlines()\n",
    "fileLength = 0\n",
    "\n",
    "for line in lines:\n",
    "    fileLength += 1\n",
    "\n",
    "deque1 = Deque(fileLength)\n",
    "deque2 = Deque(fileLength)\n",
    "\n",
    "for line in lines:\n",
    "    deque1.add(line.strip())\n",
    "\n",
    "for i in range(fileLength):\n",
    "    minX = fileLength - i - 1\n",
    "\n",
    "    for j in range(0, fileLength - i):\n",
    "        if deque1.getVal(j) < deque1.getVal(minX):\n",
    "            r = deque1.getVal(j)\n",
    "            h = deque1.getVal(minX)\n",
    "            minX = j\n",
    "\n",
    "    for k in range(minX):\n",
    "        deque2.add(deque1.getVal(0))\n",
    "        deque1.removeFromStart()\n",
    "\n",
    "    deque1.add(deque1.getVal(0))\n",
    "    deque1.removeFromStart()\n",
    "\n",
    "    for k in range(minX):\n",
    "        deque1.add2begin(deque2.getVal(0))\n",
    "        deque2.removeFromStart()\n",
    "\n",
    "deque1.toString()\n",
    "f.close()\n"
   ]
  },
  {
   "cell_type": "markdown",
   "id": "lucky-notice",
   "metadata": {},
   "source": [
    "### Задание №2\n",
    "<b>Дек</b> содержит последовательность символов для шифровки сообщений. Дан\n",
    "текстовый файл, содержащий зашифрованное сообщение. Пользуясь <b>деком</b>,\n",
    "расшифровать текст. Известно, что при шифровке каждый символ сообщения\n",
    "заменялся следующим за ним в <b>деке</b> по часовой стрелке через один.\n"
   ]
  },
  {
   "cell_type": "code",
   "execution_count": 3,
   "id": "speaking-level",
   "metadata": {},
   "outputs": [
    {
     "name": "stdout",
     "output_type": "stream",
     "text": [
      "ацитпацитп\n"
     ]
    }
   ],
   "source": [
    "from deque import Deque\n",
    "\n",
    "deque = Deque(5)\n",
    "tmp_deque = Deque(5)\n",
    "deque.add(\"ц\")\n",
    "deque.add(\"а\")\n",
    "deque.add(\"п\")\n",
    "deque.add(\"т\")\n",
    "deque.add(\"и\")\n",
    "\n",
    "f = open(\"task2.txt\", \"r\", encoding=\"utf-8\")\n",
    "message = f.readline()\n",
    "\n",
    "ans = \"\"\n",
    "\n",
    "for x in message.strip():\n",
    "    pos = (deque.getPos(x) + 2) % deque.getLength()\n",
    "    for i in range(pos + 1):\n",
    "        tmp_deque.add(deque.popStart())\n",
    "\n",
    "    ans += tmp_deque.getVal(-1)\n",
    "\n",
    "    for j in range(tmp_deque.getLength()):\n",
    "        deque.add2begin(tmp_deque.pop())\n",
    "\n",
    "print(ans)"
   ]
  },
  {
   "cell_type": "markdown",
   "id": "micro-confirmation",
   "metadata": {},
   "source": [
    "### Задание №3\n",
    "Даны три стержня и n дисков различного размера. Диски можно надевать на\n",
    "стержни, образуя из них башни. Перенести n дисков со стержня А на стержень С,\n",
    "сохранив их первоначальный порядок. При переносе дисков необходимо соблюдать\n",
    "следующие правила:\n",
    "<ul>\n",
    "    <li>  на каждом шаге со стержня на стержень переносить только один диск; </li>\n",
    "    <li> диск нельзя помещать на диск меньшего размера; </li>\n",
    "    <li> для промежуточного хранения можно использовать стержень В. </li>\n",
    "</ul>\n",
    "Реализовать алгоритм, используя три <b>стека</b> вместо стержней А, В, С. Информация\n",
    "о дисках хранится в исходном файле.\n"
   ]
  },
  {
   "cell_type": "code",
   "execution_count": 4,
   "id": "natural-oxygen",
   "metadata": {},
   "outputs": [
    {
     "name": "stdout",
     "output_type": "stream",
     "text": [
      "Move disk 1 from rod A to rod B\n",
      "Move disk 2 from rod A to rod C\n",
      "Move disk 1 from rod B to rod C\n",
      "Move disk 3 from rod A to rod B\n",
      "Move disk 1 from rod C to rod A\n",
      "Move disk 2 from rod C to rod B\n",
      "Move disk 1 from rod A to rod B\n",
      "Move disk 4 from rod A to rod C\n",
      "Move disk 1 from rod B to rod C\n",
      "Move disk 2 from rod B to rod A\n",
      "Move disk 1 from rod C to rod A\n",
      "Move disk 3 from rod B to rod C\n",
      "Move disk 1 from rod A to rod B\n",
      "Move disk 2 from rod A to rod C\n",
      "Move disk 1 from rod B to rod C\n",
      "4\n",
      "3\n",
      "2\n",
      "1\n"
     ]
    }
   ],
   "source": [
    "from stack import Stack\n",
    "\n",
    "\n",
    "def TowerOfHanoi(n, a, b, c, from_rod, to_rod, aux_rod):\n",
    "\n",
    "    if n == 1:\n",
    "\n",
    "        print(\"Move disk 1 from rod\", a, \"to rod\", b)\n",
    "        to_rod.add(from_rod.pop())\n",
    "        return\n",
    "\n",
    "    TowerOfHanoi(n-1, a, c, b, from_rod, aux_rod, to_rod)\n",
    "    to_rod.add(from_rod.pop())\n",
    "    print(\"Move disk\", n, \"from rod\", a, \"to rod\", b)\n",
    "    TowerOfHanoi(n-1, c, b, a, aux_rod, to_rod, from_rod)\n",
    "\n",
    "\n",
    "n = 4\n",
    "startStack = Stack(n)\n",
    "for i in range(n, 0, -1):\n",
    "    startStack.add(i)\n",
    "tmpStack = Stack(n)\n",
    "finalStack = Stack(n)\n",
    "TowerOfHanoi(n, 'A', 'C', 'B', startStack, finalStack, tmpStack)\n",
    "finalStack.toString()"
   ]
  },
  {
   "cell_type": "markdown",
   "id": "collectible-creature",
   "metadata": {},
   "source": [
    "Далее я использовал файл helpFunc с функциями, написанными мной:"
   ]
  },
  {
   "cell_type": "code",
   "execution_count": 9,
   "id": "separate-topic",
   "metadata": {},
   "outputs": [],
   "source": [
    "def brackets(stack, fl):\n",
    "    sum = 0\n",
    "    while not stack.isEmpty():\n",
    "        if fl:\n",
    "            x = stack.pop()\n",
    "            if x == ')':\n",
    "                sum += 1\n",
    "            elif x == '(':\n",
    "                sum -= 1\n",
    "        else:\n",
    "            x = stack.pop()\n",
    "            if x == ']':\n",
    "                sum += 1\n",
    "            elif x == '[':\n",
    "                sum -= 1\n",
    "            else:\n",
    "                if sum != 0:\n",
    "                    return False\n",
    "    if sum == 0:\n",
    "        return True\n",
    "    else:\n",
    "        return False\n",
    "\n",
    "\n",
    "def isLetter(char):\n",
    "    if 64 < ord(char) < 91 or 96 < ord(char) < 132:\n",
    "        return True\n",
    "    return False\n",
    "\n",
    "\n",
    "def isNumber(char):\n",
    "    if 47 < ord(char) < 58:\n",
    "        return True\n",
    "    return False\n",
    "\n",
    "\n",
    "def isPositive(num):\n",
    "    if int(num) >= 0:\n",
    "        return True\n",
    "    else:\n",
    "        return False"
   ]
  },
  {
   "cell_type": "markdown",
   "id": "united-psychology",
   "metadata": {},
   "source": [
    "### Задание №4\n",
    "Дан текстовый файл с программой на алгоритмическом языке. За один просмотр\n",
    "файла проверить баланс круглых скобок в тексте, используя <b>стек.</b>\n"
   ]
  },
  {
   "cell_type": "code",
   "execution_count": 5,
   "id": "protecting-thermal",
   "metadata": {},
   "outputs": [
    {
     "name": "stdout",
     "output_type": "stream",
     "text": [
      "True\n"
     ]
    }
   ],
   "source": [
    "from stack import Stack\n",
    "import codecs\n",
    "from helpFunc import brackets\n",
    "\n",
    "\n",
    "f = codecs.open(\"task4.txt\", \"r\", \"utf_8_sig\")\n",
    "lines = f.readlines()\n",
    "stack = Stack()\n",
    "for line in lines:\n",
    "    for char in line:\n",
    "        if char == '(' or char == ')':\n",
    "            stack.add(char)\n",
    "\n",
    "print(brackets(stack, True))\n"
   ]
  },
  {
   "cell_type": "markdown",
   "id": "adverse-developer",
   "metadata": {},
   "source": [
    "### Задание №5\n",
    "Дан текстовый файл с программой на алгоритмическом языке. За один просмотр\n",
    "файла проверить баланс квадратных скобок в тексте, используя <b>дек.</b>"
   ]
  },
  {
   "cell_type": "code",
   "execution_count": 6,
   "id": "driven-visiting",
   "metadata": {},
   "outputs": [
    {
     "name": "stdout",
     "output_type": "stream",
     "text": [
      "True\n"
     ]
    }
   ],
   "source": [
    "from deque import Deque\n",
    "import codecs\n",
    "from helpFunc import brackets\n",
    "\n",
    "\n",
    "f = codecs.open(\"task4.txt\", \"r\", \"utf_8_sig\")\n",
    "lines = f.readlines()\n",
    "deque = Deque()\n",
    "\n",
    "sep_char = \"*\"\n",
    "for line in lines:\n",
    "    for char in line:\n",
    "        if char == '[' or char == ']':\n",
    "            deque.add(char)\n",
    "    deque.add(sep_char)\n",
    "print(brackets(deque, False))\n"
   ]
  },
  {
   "cell_type": "markdown",
   "id": "smoking-proceeding",
   "metadata": {},
   "source": [
    "### Задание №6\n",
    "Дан файл из символов. Используя <b>стек</b>, за один просмотр файла напечатать\n",
    "сначала все цифры, затем все буквы, и, наконец, все остальные символы, сохраняя\n",
    "исходный порядок в каждой группе символов.\n"
   ]
  },
  {
   "cell_type": "code",
   "execution_count": 7,
   "id": "three-prediction",
   "metadata": {},
   "outputs": [
    {
     "name": "stdout",
     "output_type": "stream",
     "text": [
      "Numbers - 1 1 1 1 4 0 1 \n",
      "Letters - f r o m s t a c k i m p o r t S t a c k d e f T o w e r O f H a n o i n a b c f r o m r o d t o r o d a u x r o d i f n p r i n t M o v e d i s k f r o m r o d a t o r o d b t o r o d a d d f r o m r o d p o p r e t u r n T o w e r O f H a n o i n a c b f r o m r o d a u x r o d t o r o d t o r o d a d d f r o m r o d p o p p r i n t M o v e d i s k n f r o m r o d a t o r o d b T o w e r O f H a n o i n c b a a u x r o d t o r o d f r o m r o d n s t a r t S t a c k S t a c k n f o r i i n r a n g e n s t a r t S t a c k a d d i t m p S t a c k S t a c k n f i n a l S t a c k S t a c k n T o w e r O f H a n o i n A C B s t a r t S t a c k f i n a l S t a c k t m p S t a c k f i n a l S t a c k t o S t r i n g \n",
      "Other -         ( ,   ,   ,   ,   _ ,   _ ,   _ ) :     = =   : ( \"         \" ,   ,   \"   \" ,   ) _ . ( _ . ( ) ) ( - ,   ,   ,   ,   _ ,   _ ,   _ ) _ . ( _ . ( ) ) ( \"   \" ,   ,   \"   \" ,   ,   \"   \" ,   ) ( - ,   ,   ,   ,   _ ,   _ ,   _ )   =     =   ( )       ( ,   ,   - ) : . ( )   =   ( )   =   ( ) ( ,   ' ' ,   ' ' ,   ' ' ,   ,   ,   ) . ( ) \n"
     ]
    }
   ],
   "source": [
    "from stack import Stack\n",
    "import codecs\n",
    "from helpFunc import isLetter, isNumber\n",
    "\n",
    "\n",
    "numberStack = Stack()\n",
    "letterStack = Stack()\n",
    "otherStack = Stack()\n",
    "\n",
    "f = codecs.open(\"task6.txt\", \"r\", \"utf_8_sig\")\n",
    "lines = f.readlines()\n",
    "\n",
    "for line in lines:\n",
    "    for char in line.strip():\n",
    "        if isNumber(char):\n",
    "            numberStack.add(char)\n",
    "        elif isLetter(char):\n",
    "            letterStack.add(char)\n",
    "        else:\n",
    "            otherStack.add(char)\n",
    "\n",
    "print(\"Numbers - \", end=\"\")\n",
    "numberStack.toString(inString=True)\n",
    "print(\"Letters - \", end=\"\")\n",
    "letterStack.toString(inString=True)\n",
    "print(\"Other - \", end=\"\")\n",
    "otherStack.toString(inString=True)\n"
   ]
  },
  {
   "cell_type": "markdown",
   "id": "expired-nomination",
   "metadata": {},
   "source": [
    "### Задание №7\n",
    "Дан файл из целых чисел. Используя <b>дек</b>, за один просмотр файла напечатать\n",
    "сначала все отрицательные числа, затем все положительные числа, сохраняя\n",
    "исходный порядок в каждой группе.\n"
   ]
  },
  {
   "cell_type": "code",
   "execution_count": 10,
   "id": "racial-confidentiality",
   "metadata": {},
   "outputs": [
    {
     "name": "stdout",
     "output_type": "stream",
     "text": [
      "-1 -12 -54 -14 5 23 541 58 88\n"
     ]
    }
   ],
   "source": [
    "from deque import Deque\n",
    "from helpFunc import isPositive\n",
    "\n",
    "\n",
    "deque = Deque()\n",
    "f = open(\"task7.txt\", \"r\")\n",
    "numbers = f.read().split(\" \")\n",
    "for num in numbers:\n",
    "    if isPositive(num):\n",
    "        deque.add(num)\n",
    "    else:\n",
    "        deque.add2begin(num)\n",
    "\n",
    "x = deque.popStart()\n",
    "ans = []\n",
    "\n",
    "while int(x) < 0:\n",
    "    ans.append(int(x))\n",
    "    x = deque.popStart()\n",
    "\n",
    "ans = ans[::-1]\n",
    "ans.append(int(x))\n",
    "\n",
    "while not deque.isEmpty():\n",
    "    ans.append(int(deque.popStart()))\n",
    "\n",
    "print(*ans)\n"
   ]
  },
  {
   "cell_type": "markdown",
   "id": "expressed-northwest",
   "metadata": {},
   "source": [
    "### Задание №8\n",
    "Дан текстовый файл. Используя <b>стек</b>, сформировать новый текстовый файл,\n",
    "содержащий строки исходного файла, записанные в обратном порядке: первая\n",
    "строка становится последней, вторая – предпоследней и т.д.\n"
   ]
  },
  {
   "cell_type": "code",
   "execution_count": 11,
   "id": "right-commonwealth",
   "metadata": {},
   "outputs": [
    {
     "name": "stdout",
     "output_type": "stream",
     "text": [
      "        return x\r\n",
      "        self.removeFromStart()\r\n",
      "        x = self.arr[0]\r\n",
      "    def popStart(self):\r\n",
      "\r\n",
      "        self.arr = self.arr[1::]\r\n",
      "    def removeFromStart(self):\r\n",
      "\r\n",
      "        self.arr = [val] + self.arr\r\n",
      "    def add2begin(self, val):\r\n",
      "\r\n",
      "        super().__init__(size)\r\n",
      "    def __init__(self, size=0):\r\n",
      "class Deque(Stack):\r\n",
      "\r\n",
      "\r\n",
      "from stack import Stack\r\n"
     ]
    }
   ],
   "source": [
    "from stack import Stack\n",
    "import codecs\n",
    "\n",
    "\n",
    "stack = Stack()\n",
    "f = codecs.open(\"task8.txt\", \"r\", \"utf_8_sig\")\n",
    "lines = f.readlines()\n",
    "\n",
    "for line in lines:\n",
    "    stack.add(line)\n",
    "\n",
    "while not stack.isEmpty():\n",
    "    print(stack.pop(), end=\"\")\n"
   ]
  },
  {
   "cell_type": "markdown",
   "id": "imported-clone",
   "metadata": {},
   "source": [
    "### Задание №9\n",
    "Дан текстовый файл. Используя стек, вычислить значение логического выражения,\n",
    "записанного в текстовом файле в следующей форме:\n",
    "< ЛВ > ::= T | F | (N<ЛВ>) | (<ЛВ>A<ЛВ>) | (<ЛВ>X<ЛВ>) | (<ЛВ>O<ЛВ>),\n",
    "где буквами обозначены логические константы и операции:\n",
    "T – True, F – False, N – Not, A – And, X – Xor, O – Or.\n"
   ]
  },
  {
   "cell_type": "code",
   "execution_count": 1,
   "id": "english-dynamics",
   "metadata": {},
   "outputs": [
    {
     "name": "stdout",
     "output_type": "stream",
     "text": [
      "F\n"
     ]
    }
   ],
   "source": [
    "from stack import Stack\n",
    "\n",
    "\n",
    "def inf_to_post(Q):\n",
    "    stack = Stack()\n",
    "    P = \"\"\n",
    "    for i in Q:\n",
    "        if i in \"TF\":\n",
    "            P += i\n",
    "        elif i == \"(\":\n",
    "            stack.add(i)\n",
    "        elif i == \")\":\n",
    "            while stack.getLength() > 0 and stack.peek() != \"(\":\n",
    "                P += stack.pop()\n",
    "            stack.pop() # supposed to delete \"(\"\n",
    "        elif i in \"NAXO\":\n",
    "            if stack.getLength() < 1 or stack.peek() == \"(\":\n",
    "                stack.add(i)\n",
    "            else:\n",
    "                while stack.getLength() > 0 and stack.peek() != \"(\":\n",
    "                    P += stack.pop()\n",
    "                stack.add(i)\n",
    "\n",
    "    while stack.getLength() > 0:\n",
    "        P += stack.pop()\n",
    "\n",
    "    return P\n",
    "\n",
    "\n",
    "def eval_post(P):\n",
    "    # Start with an empty stack. We scan P from left to right.\n",
    "    s = Stack()\n",
    "    for i in P:\n",
    "        if i in \"TF\":\n",
    "            s.add(i)\n",
    "        elif i == \"N\":\n",
    "            s.pop()\n",
    "            if i == 'T':\n",
    "                i = 'F'\n",
    "            else: i = 'T'\n",
    "            s.add(i)\n",
    "\n",
    "        elif i == \"A\":\n",
    "            s.pop()\n",
    "            s.add((s.pop() and s.pop()).__str__())\n",
    "\n",
    "        elif i == \"X\":\n",
    "            l1 = s.pop()\n",
    "            l2 = s.pop()\n",
    "            s.pop()\n",
    "            s.add((l1 or l2 and not l1 and l2).__str__())\n",
    "        elif i == \"O\":\n",
    "            s.pop()\n",
    "            s.add((s.pop() or s.pop()).__str__())\n",
    "    return s.pop()\n",
    "\n",
    "\n",
    "P = inf_to_post(open(\"task9.txt\").read())\n",
    "print(eval_post(P))\n"
   ]
  },
  {
   "cell_type": "markdown",
   "id": "controversial-northwest",
   "metadata": {},
   "source": [
    "### Задание №10\n",
    "Дан текстовый файл. В текстовом файле записана формула следующего вида:\n",
    "<Формула> ::= <Цифра> | M(<Формула>,<Формула>) | N(Формула>,<Формула>)\n",
    "< Цифра > ::= 0 | 1 | 2 | 3 | 4 | 5 | 6 | 7 | 8 | 9\n",
    "где буквами обозначены функции:\n",
    "M – определение максимума, N – определение минимума.\n",
    "Используя стек, вычислить значение заданного выражения."
   ]
  },
  {
   "cell_type": "code",
   "execution_count": 2,
   "id": "harmful-landing",
   "metadata": {},
   "outputs": [
    {
     "name": "stdout",
     "output_type": "stream",
     "text": [
      "Small number in last comparison is 7 \n",
      "Big number in last comparison is 8\n"
     ]
    }
   ],
   "source": [
    "from stack import Stack\n",
    "\n",
    "\n",
    "def Comparison(exp):\n",
    "    operation = Stack()\n",
    "    numbers = Stack()\n",
    "\n",
    "    temp = ''\n",
    "    # stack write stage\n",
    "    for i in exp:\n",
    "        if i.isdigit():\n",
    "            temp += i\n",
    "        elif temp != '':\n",
    "            numbers.add(temp)\n",
    "            temp = ''\n",
    "        if i == 'M' or i == 'N':\n",
    "            operation.add(i)\n",
    "\n",
    "    # logic stage\n",
    "    while not operation.isEmpty():\n",
    "        if temp != '':\n",
    "            big = temp\n",
    "        else:\n",
    "            big = numbers.pop()\n",
    "        small = numbers.pop()\n",
    "\n",
    "        if small > big:\n",
    "            small, big = big, small\n",
    "\n",
    "        if operation.pop() == 'M':\n",
    "            temp = big\n",
    "        else:\n",
    "            temp = small\n",
    "\n",
    "    return f\"Small number in last comparison is {small} \\nBig number in last comparison is {big}\"\n",
    "\n",
    "\n",
    "f = open('task10', 'r')\n",
    "expression = f.read()\n",
    "print(Comparison(expression))\n"
   ]
  },
  {
   "cell_type": "markdown",
   "id": "literary-member",
   "metadata": {},
   "source": [
    "### Задание №11\n",
    "Дан текстовый файл. Используя стек, проверить, является ли содержимое\n",
    "текстового файла правильной записью формулы вида:\n",
    "< Формула > ::= < Терм > | < Терм > + < Формула > | < Терм > - < Формула >\n",
    "< Терм > ::= < Имя > | (< Формула >)\n",
    "< Имя > ::= x | y | z"
   ]
  },
  {
   "cell_type": "code",
   "execution_count": 3,
   "id": "arbitrary-study",
   "metadata": {},
   "outputs": [
    {
     "name": "stdout",
     "output_type": "stream",
     "text": [
      "ok\n"
     ]
    }
   ],
   "source": [
    "from stack import Stack\n",
    "\n",
    "\n",
    "stack = Stack()\n",
    "vars = ['x', 'y', 'z']\n",
    "zn = ['+', '-', '*', '/']\n",
    "sk = ['(', ')']\n",
    "\n",
    "good = 'x+(y-z)'\n",
    "bad = 'xx(y+z)'\n",
    "\n",
    "for x in good:\n",
    "    stack.add(x)\n",
    "k = 0\n",
    "arrSk = []\n",
    "arrVars = []\n",
    "counter = 0\n",
    "check = stack.getLength()\n",
    "while not stack.isEmpty():\n",
    "    x = stack.pop()\n",
    "    if x in vars:\n",
    "        k += 1\n",
    "    if x in sk:\n",
    "        if x == '(' and len(arrSk) == 0:\n",
    "            print('bad')\n",
    "            break\n",
    "        elif x == ')':\n",
    "            arrSk.append(x)\n",
    "        elif x == ')' and len(arrSk) == 1:\n",
    "            arrSk.clear()\n",
    "    elif x in zn:\n",
    "        k -= 1\n",
    "    if k < 0 or k > 1:\n",
    "        print('bad')\n",
    "        break\n",
    "    counter += 1\n",
    "\n",
    "if counter == check:\n",
    "    print('ok')"
   ]
  },
  {
   "cell_type": "markdown",
   "id": "fixed-aquatic",
   "metadata": {},
   "source": [
    "## Вывод:\n",
    "В этой лабораторной работе я познакомился с такими структурами данных, как стек и дек, а так же научился применять их для решения задач."
   ]
  }
 ],
 "metadata": {
  "kernelspec": {
   "display_name": "Python 3",
   "language": "python",
   "name": "python3"
  },
  "language_info": {
   "codemirror_mode": {
    "name": "ipython",
    "version": 3
   },
   "file_extension": ".py",
   "mimetype": "text/x-python",
   "name": "python",
   "nbconvert_exporter": "python",
   "pygments_lexer": "ipython3",
   "version": "3.7.4"
  }
 },
 "nbformat": 4,
 "nbformat_minor": 5
}
