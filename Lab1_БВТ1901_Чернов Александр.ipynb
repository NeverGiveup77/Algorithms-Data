{
 "cells": [
  {
   "source": [
    "#  Лабораторная работа №1\n",
    "## Выполнил студент группы БВТ1901 Чернов Александр\n",
    "### Задание №1"
   ],
   "cell_type": "markdown",
   "metadata": {}
  },
  {
   "source": [
    "1. Создать Jupyter Notebook со следующим наименованием: Lab1_Группа_ФИО\n",
    "2. Создать новую ячейку с помощью кнопки \"+\"\n",
    "3. В созданной ячейке по указанной ниже форме заполните оглавление файла,заменив наименование группы и вписав свое ФИО,\n",
    "после чего создайте еще одну ячейку и напишите следующий код: print(\"Hello, World!\")\n",
    "4. С помощью кнопки \"Run\" запустите выполнение всех ячеек.\n",
    "5. После выполнения у вас должна отформатироваться ячейка с оглавлением и должен выполниться “Hello, World!”"
   ],
   "cell_type": "markdown",
   "metadata": {}
  },
  {
   "cell_type": "code",
   "execution_count": 34,
   "id": "trying-circumstances",
   "metadata": {},
   "outputs": [
    {
     "output_type": "stream",
     "name": "stdout",
     "text": [
      "Hello, World!\n"
     ]
    }
   ],
   "source": [
    "print(\"Hello, World!\")"
   ]
  },
  {
   "source": [
    "### Задание №2"
   ],
   "cell_type": "markdown",
   "metadata": {}
  },
  {
   "source": [
    "<ul>\n",
    "<li>Написать генератор случайных матриц(многомерных), который принимает опциональные параметры \n",
    "m, n, min_limit, max_limit, где m и n указывают размер матрицы, \n",
    "а min_lim и max_lim - минимальное и максимальное значение для\n",
    "генерируемого числа . По умолчанию при отсутствии параметров принимать следующие\n",
    "значения:\n",
    "</li>\n",
    "    <li><code>m = 50</code></li>\n",
    "    <li><code>n = 50</code></li>\n",
    "    <li><code>min_limit = -250</code></li>\n",
    "    <li><code>max_limit = 1000 + (номер своего варианта)</code></li>\n",
    "</ul>"
   ],
   "cell_type": "markdown",
   "metadata": {}
  },
  {
   "cell_type": "code",
   "execution_count": 35,
   "id": "colonial-roulette",
   "metadata": {},
   "outputs": [
    {
     "output_type": "stream",
     "name": "stdout",
     "text": [
      "Хотите ввести данные для генерации матрицы вручную? (1).\nИначе, использовать дефолтные параметры: \nn = 50; m = 50; min_limit = -250; max_limit = 100. (2)\n"
     ]
    }
   ],
   "source": [
    "import random\n",
    "\n",
    "#Инициализация\n",
    "print(\"Хотите ввести данные для генерации матрицы вручную? (1).\\nИначе, использовать дефолтные параметры: \\n\"\n",
    "      \"n = 50; m = 50; min_limit = -250; max_limit = 100. (2)\")\n",
    "\n",
    "if int(input()) == 1:\n",
    "    n = int(input(\"Кол-во строк: \"))\n",
    "    m = int(input(\"Кол-во столбцов: \"))\n",
    "    min_limit = int(input(\"Минимальный элемент: \"))\n",
    "    max_limit = int(input(\"Максимальный элемент: \"))\n",
    "else:\n",
    "    n = 50\n",
    "    m = 50\n",
    "    min_limit = -250\n",
    "    max_limit = 1023\n",
    "\n",
    "arr = [[random.randrange(min_limit, max_limit) for j in range(m)] for i in range(n)]"
   ]
  },
  {
   "source": [
    "# Задание №3:\n",
    "\n",
    "<ul>\n",
    "<li>Реализовать методы сортировки строк числовой матрицы в соответствии с\n",
    "заданием. Оценить время работы каждого алгоритма сортировки и сравнить его со\n",
    "временем стандартной функции сортировки. Испытания проводить на сгенерированных\n",
    "матрицах.\n",
    "</ul>"
   ],
   "cell_type": "markdown",
   "metadata": {}
  },
  {
   "cell_type": "code",
   "execution_count": 37,
   "id": "opposite-heritage",
   "metadata": {},
   "outputs": [],
   "source": [
    "#Сортировка выбором\n",
    "def selection_sort(arr):\n",
    "    for i in range(0, len(arr) - 1):\n",
    "        local_min = i\n",
    "        for j in range(i + 1, len(arr)):\n",
    "            if arr[j] < arr[local_min]:\n",
    "                local_min = j\n",
    "        arr[i], arr[local_min] = arr[local_min], arr[i]\n",
    "    return arr"
   ]
  },
  {
   "cell_type": "code",
   "execution_count": 38,
   "id": "imperial-vermont",
   "metadata": {},
   "outputs": [],
   "source": [
    "#Сортировка вставками\n",
    "def insertion_sort(arr):\n",
    "    for i in range(1, len(arr)):\n",
    "        temp = arr[i]\n",
    "        j = i - 1\n",
    "        while j >= 0 and temp < arr[j]:\n",
    "            arr[j + 1] = arr[j]\n",
    "            j = j - 1\n",
    "        arr[j + 1] = temp\n",
    "    return arr"
   ]
  },
  {
   "cell_type": "code",
   "execution_count": 39,
   "id": "oriental-framework",
   "metadata": {},
   "outputs": [],
   "source": [
    "#Сортировка пузырьком\n",
    "def bubble_sort(arr):\n",
    "    swapped = True\n",
    "    x = -1\n",
    "    while swapped:\n",
    "        swapped = False\n",
    "        x = x + 1\n",
    "        for i in range(1, len(arr) - x):\n",
    "            if arr[i - 1] > arr[i]:\n",
    "                arr[i - 1], arr[i] = arr[i], arr[i - 1]\n",
    "                swapped = True\n",
    "    return arr"
   ]
  },
  {
   "cell_type": "code",
   "execution_count": 40,
   "id": "authorized-queensland",
   "metadata": {},
   "outputs": [],
   "source": [
    "#Сортировка Шелла\n",
    "def shell(arr):\n",
    "    gap = len(arr) // 2\n",
    "    while gap > 0:\n",
    "\n",
    "        for i in range(gap, len(arr)):\n",
    "            temp = arr[i]\n",
    "            j = i\n",
    "\n",
    "            while j >= gap and arr[j - gap] > temp:\n",
    "                arr[j] = arr[j - gap]\n",
    "                j = j - gap\n",
    "            arr[j] = temp\n",
    "\n",
    "        gap = gap // 2\n",
    "\n",
    "    return arr"
   ]
  },
  {
   "cell_type": "code",
   "execution_count": 41,
   "id": "voluntary-andrews",
   "metadata": {},
   "outputs": [],
   "source": [
    "#Быстрая сортировка\n",
    "def partition(array, begin, end):\n",
    "    pivot = begin\n",
    "    for i in range(begin+1, end+1):\n",
    "        if array[i] <= array[begin]:\n",
    "            pivot += 1\n",
    "            array[i], array[pivot] = array[pivot], array[i]\n",
    "    array[pivot], array[begin] = array[begin], array[pivot]\n",
    "    return pivot\n",
    "\n",
    "\n",
    "def quick_sort(array, begin=0, end=None):\n",
    "    if end is None:\n",
    "        end = len(array) - 1\n",
    "\n",
    "    def _quicksort(array, begin, end):\n",
    "        if begin >= end:\n",
    "            return\n",
    "        pivot = partition(array, begin, end)\n",
    "        _quicksort(array, begin, pivot - 1)\n",
    "        _quicksort(array, pivot + 1, end)\n",
    "\n",
    "    return _quicksort(array, begin, end)"
   ]
  },
  {
   "cell_type": "code",
   "execution_count": 42,
   "id": "respective-parish",
   "metadata": {},
   "outputs": [],
   "source": [
    "#Турнирная сортировка\n",
    "def tournamentSort(arr):\n",
    "    tree = [None] * 2 * (len(arr) + len(arr) % 2)\n",
    "    index = len(tree) - len(arr) - len(arr) % 2\n",
    "\n",
    "    for i, v in enumerate(arr):\n",
    "        tree[index + i] = (i, v)\n",
    "\n",
    "    for j in range(len(arr)):\n",
    "        n = len(arr)\n",
    "        index = len(tree) - len(arr) - len(arr) % 2\n",
    "        while index > -1:\n",
    "            n = (n + 1) // 2\n",
    "            for i in range(n):\n",
    "                i = max(index + i * 2, 1)  # на последней итерация index + i * 2 = 0\n",
    "                if tree[i] is not None and tree[i + 1] is not None:\n",
    "                    if tree[i][1] < tree[i + 1][1]:\n",
    "                        tree[i // 2] = tree[i]\n",
    "                    else:\n",
    "                        tree[i // 2] = tree[i + 1]\n",
    "                else:\n",
    "                    tree[i // 2] = tree[i] if tree[i] is not None else tree[i + 1]\n",
    "            index -= n\n",
    "\n",
    "        index, x = tree[0]\n",
    "        arr[j] = x\n",
    "        tree[len(tree) - len(arr) - len(arr) % 2 + index] = None\n",
    "\n",
    "    for i in range(len(arr) - 1):\n",
    "        if arr[i] > arr[i + 1]:\n",
    "            arr[i], arr[i + 1] = arr[i + 1], arr[i]\n",
    "        else:\n",
    "            break\n",
    "    return arr"
   ]
  },
  {
   "cell_type": "code",
   "execution_count": 43,
   "id": "threatened-irrigation",
   "metadata": {},
   "outputs": [],
   "source": [
    "#Пирамидальная сортировка\n",
    "def heapify(arr, n, i):\n",
    "    largest = i # Initialize largest as root\n",
    "    l = 2 * i + 1   # left = 2*i + 1\n",
    "    r = 2 * i + 2   # right = 2*i + 2\n",
    "    if l < n and arr[i] < arr[l]:\n",
    "        largest = l\n",
    "    if r < n and arr[largest] < arr[r]:\n",
    "        largest = r\n",
    "    if largest != i:\n",
    "        arr[i],arr[largest] = arr[largest],arr[i] # свап\n",
    "        heapify(arr, n, largest)\n",
    "\n",
    "\n",
    "def heapSort(arr):\n",
    "    n = len(arr)\n",
    "\n",
    "    # Построение max-heap.\n",
    "    for i in range(n, -1, -1):\n",
    "        heapify(arr, n, i)\n",
    "\n",
    "    # Один за другим извлекаем элементы\n",
    "    for i in range(n-1, 0, -1):\n",
    "        arr[i], arr[0] = arr[0], arr[i] # свап\n",
    "        heapify(arr, i, 0)"
   ]
  },
  {
   "cell_type": "code",
   "execution_count": 44,
   "id": "cognitive-canberra",
   "metadata": {},
   "outputs": [
    {
     "output_type": "stream",
     "name": "stdout",
     "text": [
      "0.004999876022338867\n",
      "0.0019996166229248047\n",
      "0.0010001659393310547\n",
      "0.002000570297241211\n",
      "0.0400090217590332\n",
      "0.0029997825622558594\n",
      "0.0050013065338134766\n",
      "0.0010004043579101562\n"
     ]
    }
   ],
   "source": [
    "import time\n",
    "\n",
    "time_start = time.time()\n",
    "f = open(\"text.txt\", \"w\")\n",
    "for i in range(len(arr)):\n",
    "    f.write(str(selection_sort(arr[i])))\n",
    "    f.write(\"\\n\")\n",
    "f.close()\n",
    "print(time.time() - time_start)\n",
    "\n",
    "time_start = time.time()\n",
    "f1 = open(\"text1.txt\", \"w\")\n",
    "for i in range(len(arr)):\n",
    "    f1.write(str(insertion_sort(arr[i])))\n",
    "    f1.write(\"\\n\")\n",
    "f1.close()\n",
    "print(time.time() - time_start)\n",
    "\n",
    "time_start = time.time()\n",
    "f2 = open(\"text2.txt\", \"w\")\n",
    "for i in range(len(arr)):\n",
    "    f2.write(str(bubble_sort(arr[i])))\n",
    "    f2.write(\"\\n\")\n",
    "f2.close()\n",
    "print(time.time() - time_start)\n",
    "\n",
    "time_start = time.time()\n",
    "f3 = open(\"text3.txt\", \"w\")\n",
    "for i in range(len(arr)):\n",
    "    f3.write(str(shell(arr[i])))\n",
    "    f3.write(\"\\n\")\n",
    "f3.close()\n",
    "print(time.time() - time_start)\n",
    "\n",
    "time_start = time.time()\n",
    "f4 = open(\"text4.txt\", \"w\")\n",
    "for i in range(len(arr)):\n",
    "    f4.write(str(tournamentSort(arr[i])))\n",
    "    f4.write(\"\\n\")\n",
    "f4.close()\n",
    "print(time.time() - time_start)\n",
    "\n",
    "time_start = time.time()\n",
    "f5 = open(\"text5.txt\", \"w\")\n",
    "for i in range(len(arr)):\n",
    "    quick_sort(arr[i])\n",
    "    f5.write(str(arr[i]))\n",
    "    f5.write(\"\\n\")\n",
    "f5.close()\n",
    "print(time.time() - time_start)\n",
    "\n",
    "time_start = time.time()\n",
    "f6 = open(\"text6.txt\", \"w\")\n",
    "for i in range(len(arr)):\n",
    "    heapSort(arr[i])\n",
    "    f6.write(str(arr[i]))\n",
    "    f6.write(\"\\n\")\n",
    "f6.close()\n",
    "print(time.time() - time_start)\n",
    "\n",
    "time_start = time.time()\n",
    "f7 = open(\"text6.txt\", \"w\")\n",
    "for i in range(len(arr)):\n",
    "    f7.write(str(sorted(arr[i])))\n",
    "    f7.write(\"\\n\")\n",
    "f7.close()\n",
    "print(time.time() - time_start)\n"
   ]
  },
  {
   "cell_type": "markdown",
   "id": "technical-familiar",
   "metadata": {},
   "source": [
    "Algorithm                Time\n",
    "-----------------------------\n",
    "<ul>\n",
    "<li>Python Default Sort:      0.000299382209777832</li>\n",
    "<li>Insertion Sort:           0.004000425338745117</li>\n",
    "<li>Selection Sort:           0.015002012252807617</li>\n",
    "<li>Bubble Sort:              0.002001047134399414</li>\n",
    "<li>Shell Sort:               0.006001472473144531</li>\n",
    "<li>Quick Sort:               0.001200580596923828</li>\n",
    "<li>Heap Sort:                0.000101323100000001</li>\n",
    "<li>Tournament Sort:          0.001082481999999998</li>\n",
    "</ul>"
   ]
  },
  {
   "source": [
    "### Задание №4\n",
    "Создать публичный репозиторий на github, и запушить выполненное задание в .ipynb формате."
   ],
   "cell_type": "markdown",
   "metadata": {}
  }
 ],
 "metadata": {
  "kernelspec": {
   "name": "python3",
   "display_name": "Python 3.9.2 64-bit",
   "metadata": {
    "interpreter": {
     "hash": "ac59ebe37160ed0dfa835113d9b8498d9f09ceb179beaac4002f036b9467c963"
    }
   }
  },
  "language_info": {
   "codemirror_mode": {
    "name": "ipython",
    "version": 3
   },
   "file_extension": ".py",
   "mimetype": "text/x-python",
   "name": "python",
   "nbconvert_exporter": "python",
   "pygments_lexer": "ipython3",
   "version": "3.9.2-final"
  }
 },
 "nbformat": 4,
 "nbformat_minor": 5
}