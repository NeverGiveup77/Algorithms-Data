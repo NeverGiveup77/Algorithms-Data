{
 "cells": [
  {
   "cell_type": "markdown",
   "metadata": {},
   "source": [
    "# Курсовая работа\n",
    "## Выполнил студент группы БВТ1901 Чернов Александр\n",
    "### Задачи на строки\n",
    "#### Задача №1\n",
    "Даны две строки: s1 и s2 с одинаковым размером, проверьте, может ли\n",
    "некоторая перестановка строки s1 “победить” некоторую перестановку\n",
    "строки s2 или наоборот.\n",
    "Строка x может “победить” строку y (обе имеют размер n), если x[i]> = y\n",
    "[i] (в алфавитном порядке) для всех i от 0 до n-1.\n"
   ]
  },
  {
   "cell_type": "code",
   "execution_count": 3,
   "metadata": {},
   "outputs": [
    {
     "name": "stdout",
     "output_type": "stream",
     "text": [
      "Строка s1: 'axy' может победить строку s2: 'abc'.\n"
     ]
    }
   ],
   "source": [
    "def sol(s1, s2):\n",
    "    s1 = sorted(s1)\n",
    "    s2 = sorted(s2)\n",
    "    k1 = 0\n",
    "    k2 = 0\n",
    "    for i in range(len(s1)):\n",
    "        if s1[i] >= s2[i]:\n",
    "            k1 += 1\n",
    "\n",
    "    for i in range(len(s2)):\n",
    "        if s2[i] >= s1[i]:\n",
    "            k2 += 1\n",
    "\n",
    "    if k1 == len(s1) and k2 == len(s2):\n",
    "        print(\"Строки равны.\")\n",
    "    elif k1 == len(s1):\n",
    "        print(f\"Строка s1: '{''.join(s1)}' может победить строку s2: '{''.join(s2)}'.\")\n",
    "    elif k2 == len(s2):\n",
    "        print(f\"Строка s2: '{''.join(s2)}' может победить строку s1: '{''.join(s1)}'.\")\n",
    "    else:\n",
    "        print(\"Строки не могут победить друг друга.\")\n",
    "\n",
    "\n",
    "sol('xya', 'abc')\n"
   ]
  },
  {
   "cell_type": "markdown",
   "metadata": {},
   "source": [
    "#### Задача №2\n",
    "Дана строка s, вернуть самую длинную полиндромную подстроку в s"
   ]
  },
  {
   "cell_type": "code",
   "execution_count": 5,
   "metadata": {},
   "outputs": [
    {
     "name": "stdout",
     "output_type": "stream",
     "text": [
      "bab\n"
     ]
    }
   ],
   "source": [
    "from itertools import combinations\n",
    "s = 'babad'\n",
    "fl = True\n",
    "for i in range(len(s), 0, -1):\n",
    "    if fl:\n",
    "        for ans in combinations(s, i):\n",
    "            tmp = ''.join(tuple(ans))\n",
    "            if tmp in s:\n",
    "                if tuple(reversed(ans)) == ans:\n",
    "                    print(''.join(ans))\n",
    "                    fl = False\n",
    "                    break\n",
    "    else:\n",
    "        break"
   ]
  },
  {
   "cell_type": "markdown",
   "metadata": {},
   "source": [
    "#### Задача №3\n",
    "Вернуть количество отдельных непустых подстрок текста, которые могут\n",
    "быть записаны как конкатенация некоторой строки с самой собой (т.е. она\n",
    "может быть записана, как a + a, где a - некоторая строка).\n"
   ]
  },
  {
   "cell_type": "code",
   "execution_count": 6,
   "metadata": {},
   "outputs": [
    {
     "name": "stdout",
     "output_type": "stream",
     "text": [
      "3\n",
      "['abc', 'bca', 'cab']\n"
     ]
    }
   ],
   "source": [
    "s = 'abcabcabc'\n",
    "arr = []\n",
    "for i in range(1, len(s) // 2 + 1):\n",
    "    for j in range(len(s)):\n",
    "        if len(s) - j >= i:\n",
    "            k = 0\n",
    "            tmp = \"\"\n",
    "            while k < i:\n",
    "                if j + k < len(s):\n",
    "                    tmp += s[j + k]\n",
    "                    k += 1\n",
    "                else:\n",
    "                    break\n",
    "            arr.append(tmp)\n",
    "\n",
    "ans = 0\n",
    "arr1 = []\n",
    "for i in range(len(arr)):\n",
    "    if i + len(arr[i]) < len(arr):\n",
    "        if arr[i] == arr[i + len(arr[i])]:\n",
    "            if arr[i] not in arr1:\n",
    "                arr1.append(arr[i])\n",
    "\n",
    "print(len(arr1))\n",
    "print(arr1)\n"
   ]
  },
  {
   "cell_type": "markdown",
   "metadata": {},
   "source": [
    "### Шарики\n",
    "#### Задача №1\n",
    "Некоторые сферические шарики распределены по двухмерному пространству. Для каждого\n",
    "шарика даны x­координаты начала и конца его горизонтального диаметра. Так как пространство\n",
    "двумерно, то y­координаты не имеют значения в данной задаче. Координата xstart всегда меньше\n",
    "xend.\n",
    "Стрелу можно выстрелить строго вертикально (вдоль y­оси) из разных точек x­оси. Шарик\n",
    "с координатами xstart и xend уничтожается стрелой, если она была выпущена из такой позиции\n",
    "x, что xstart ⩽ x ⩽ xend. Когда стрела выпущена, она летит в пространстве бесконечное время\n",
    "(уничтожая все шарики на пути).\n",
    "Дан массив points, где points[i] = [xstart, xend]. Напишите функцию, возвращающую минимальное количество стрел, которые нужно выпустить, чтобы уничтожить все шарики.\n"
   ]
  },
  {
   "cell_type": "code",
   "execution_count": 7,
   "metadata": {},
   "outputs": [
    {
     "name": "stdout",
     "output_type": "stream",
     "text": [
      "2\n"
     ]
    }
   ],
   "source": [
    "def entry(x, y):\n",
    "    if x[0] <= y[0] <= x[1] or y[0] <= x[0] <= y[1]:\n",
    "        return True\n",
    "    return False\n",
    "\n",
    "\n",
    "if __name__ == '__main__':\n",
    "    arr = [[10, 16], [2, 8], [1, 6], [7, 12]]\n",
    "#     arr1 = [[1, 2], [3, 4], [5, 6], [7, 8]]\n",
    "#     arr2 = [[1, 2], [2, 3], [3, 4], [4, 5]]\n",
    "#     arr3 = [[1, 2]]\n",
    "#     arr4 = [[2, 3], [2, 3]]\n",
    "    arr = sorted(arr)\n",
    "    i = 0\n",
    "    ans = 0\n",
    "    while i < len(arr):\n",
    "        if i + 1 < len(arr):\n",
    "            j = i + 1\n",
    "        else:\n",
    "            ans += 1\n",
    "            break\n",
    "        while entry(arr[i], arr[j]):\n",
    "            j += 1\n",
    "            if j + 1 > len(arr):\n",
    "                break\n",
    "        i = j\n",
    "        ans += 1\n",
    "\n",
    "    print(ans)"
   ]
  },
  {
   "cell_type": "markdown",
   "metadata": {},
   "source": [
    "### Стопки монет\n",
    "#### Задача №1\n",
    "На столе стоят 3n стопок монет. Вы и ваши друзья Алиса и Боб забираете стопки монет по\n",
    "следующему алгоритму:\n",
    "1. Вы выбираете 3 стопки монет из оставшихся на столе.<br>\n",
    "2. Алиса забирает себе стопку с максимальным количеством монет. <br>\n",
    "3. Вы забираете одну из двух оставшихся стопок.<br>\n",
    "4. Боб забирает последнюю стопку.<br>\n",
    "5. Если еще остались стопки, то действия повторяются с первого шага.<br>\n",
    "<br>\n",
    "Дан массив целых положительных чисел piles. Напишите функцию, возвращающую максимальное число монет, которое вы можете получить.\n"
   ]
  },
  {
   "cell_type": "code",
   "execution_count": 10,
   "metadata": {},
   "outputs": [
    {
     "name": "stdout",
     "output_type": "stream",
     "text": [
      "18\n"
     ]
    }
   ],
   "source": [
    "arr = [9, 8, 7, 6, 5, 1, 2, 3, 4]\n",
    "# arr = [2, 4, 1, 2, 7, 8]\n",
    "arr = sorted(arr)\n",
    "res = 0\n",
    "while len(arr):\n",
    "    arr.pop(0)\n",
    "    arr.pop(-1)\n",
    "    res += arr.pop(-1)\n",
    "print(res)\n"
   ]
  },
  {
   "cell_type": "markdown",
   "metadata": {},
   "source": [
    "### Отрезки\n",
    "#### Задача №1\n",
    "Дан массив отрезков intervals, в котором intervals[i] = [starti\n",
    ", endi\n",
    "], некоторые\n",
    "отрезки могут пересекаться. Напишите функцию, которая объединяет все пересекающиеся отрезки в один и возвращает новый массив непересекающихся отрезков"
   ]
  },
  {
   "cell_type": "code",
   "execution_count": 13,
   "metadata": {},
   "outputs": [
    {
     "name": "stdout",
     "output_type": "stream",
     "text": [
      "[[1, 6], [8, 10], [15, 18]]\n"
     ]
    }
   ],
   "source": [
    "def entry(x, y):\n",
    "    if x[0] <= y[0] <= x[1] or y[0] <= x[0] <= y[1]:\n",
    "        return True\n",
    "    return False\n",
    "\n",
    "\n",
    "intervals = [[1, 3], [2, 6], [8, 10], [15, 18]]\n",
    "ans = [intervals[0]]\n",
    "intervals = sorted(intervals)\n",
    "\n",
    "for i in range(1, len(intervals)):\n",
    "    if entry(ans[-1], intervals[i]):\n",
    "        ans[-1] = [ans[-1][0], intervals[i][1]]\n",
    "    else:\n",
    "        ans.append(intervals[i])\n",
    "\n",
    "print(ans)\n"
   ]
  },
  {
   "cell_type": "markdown",
   "metadata": {},
   "source": [
    "### Контрольные задачи по дисциплине СиАОД №1\n",
    "#### Задача 1. «Треугольник с максимальным периметром»\n",
    "Массив A состоит из целых положительных чисел ­ длин отрезков. Составьте из трех отрезков такой треугольник, чтобы его периметр был максимально возможным. Если невозможно\n",
    "составить треугольник с положительной площадью ­ функция возвращает 0."
   ]
  },
  {
   "cell_type": "code",
   "execution_count": 14,
   "metadata": {},
   "outputs": [
    {
     "name": "stdout",
     "output_type": "stream",
     "text": [
      "10\n"
     ]
    }
   ],
   "source": [
    "mass = [3, 2, 3, 4]\n",
    "sorted_mass = sorted(mass)\n",
    "\n",
    "x, y, z = sorted_mass.pop(-1), sorted_mass.pop(-1), None\n",
    "square = 0\n",
    "\n",
    "while sorted_mass and square == 0:\n",
    "    for side in sorted_mass:\n",
    "        if not(side + x > y and side + y > x and x + y > side):\n",
    "            continue\n",
    "        else:\n",
    "            if x + y + side > square:\n",
    "                square = x + y + side\n",
    "    x = y\n",
    "    y = sorted_mass.pop(-1)\n",
    "\n",
    "print(square)\n"
   ]
  },
  {
   "cell_type": "markdown",
   "metadata": {},
   "source": [
    "#### Задача 2. «Максимальное число»\n",
    "Дан массив неотрицательных целых чисел nums. Расположите их в таком порядке, чтобы\n",
    "вместе они образовали максимально возможное число.\n",
    "Замечание: Результат может быть очень большим числом, поэтому представьте его как\n",
    "string, а не integer.\n"
   ]
  },
  {
   "cell_type": "code",
   "execution_count": 1,
   "metadata": {},
   "outputs": [
    {
     "name": "stdout",
     "output_type": "stream",
     "text": [
      "9534330\n"
     ]
    }
   ],
   "source": [
    "arr = [3, 30, 34, 5, 9]\n",
    "for i in range(len(arr)):\n",
    "    arr[i] = str(arr[i])\n",
    "\n",
    "for i in range(len(arr) - 1):\n",
    "    j = i + 1\n",
    "    while j < len(arr):\n",
    "        if int(arr[i] + arr[j]) < int(arr[j] + arr[i]):\n",
    "            arr[j], arr[i] = arr[i], arr[j]\n",
    "        j += 1\n",
    "\n",
    "print(''.join(arr))\n"
   ]
  },
  {
   "cell_type": "markdown",
   "metadata": {},
   "source": [
    "#### Задача 3. «Сортировка диагоналей в матрице»\n",
    "Дана матрица mat размером m * n, значения ­ целочисленные. Напишите функцию, сортирующую каждую диагональ матрицы по возрастанию и возвращающую получившуюся матрицу."
   ]
  },
  {
   "cell_type": "code",
   "execution_count": 16,
   "metadata": {},
   "outputs": [],
   "source": [
    "import random\n",
    "\n",
    "\n",
    "def diagonal_sort(mat):\n",
    "    for column in range(len(mat[0]) - 1):\n",
    "        diagonal_list = []\n",
    "        col = column\n",
    "\n",
    "        for row in range(len(mat)):\n",
    "            diagonal_list.append(mat[row][col])\n",
    "            col += 1\n",
    "\n",
    "            if col >= len(mat[0]):\n",
    "                break\n",
    "\n",
    "        diagonal_list = sorted(diagonal_list)\n",
    "        col = column\n",
    "\n",
    "        for row in range(len(mat)):\n",
    "            mat[row][col] = diagonal_list[row]\n",
    "            col += 1\n",
    "\n",
    "            if col >= len(mat[0]):\n",
    "                break\n",
    "\n",
    "    for row in range(1, len(mat)):\n",
    "        diagonal_list = []\n",
    "        r = row\n",
    "\n",
    "        for column in range(len(mat[0])):\n",
    "            diagonal_list.append(mat[r][column])\n",
    "            r += 1\n",
    "\n",
    "            if r >= len(mat):\n",
    "                break\n",
    "\n",
    "        diagonal_list = sorted(diagonal_list)\n",
    "        r = row\n",
    "\n",
    "        for column in range(len(mat[0])):\n",
    "            mat[r][column] = diagonal_list[column]\n",
    "            r += 1\n",
    "\n",
    "            if r >= len(mat):\n",
    "                break\n",
    "    return mat\n",
    "\n",
    "\n",
    "n = 50\n",
    "m = 50\n",
    "min_limit = -250\n",
    "max_limit = 1001\n",
    "arr = [[random.randrange(min_limit, max_limit) for j in range(m)] for i in range(n)]\n",
    "f6 = open(\"text6.txt\", \"w\")\n",
    "for x in diagonal_sort(arr):\n",
    "    f6.write(str(x))\n",
    "    f6.write(\"\\n\")\n",
    "f6.close()"
   ]
  },
  {
   "cell_type": "markdown",
   "metadata": {},
   "source": [
    "# Вывод\n",
    "В ходе данной курсовой работы были написаны алгоритмы для всех поставленных задач."
   ]
  }
 ],
 "metadata": {
  "interpreter": {
   "hash": "653d7f8aea3021250140c7bf131310d36fb58d9eb0e5e68232a566a023db71a1"
  },
  "kernelspec": {
   "display_name": "Python 3.7.7 64-bit",
   "name": "python3"
  },
  "language_info": {
   "codemirror_mode": {
    "name": "ipython",
    "version": 3
   },
   "file_extension": ".py",
   "mimetype": "text/x-python",
   "name": "python",
   "nbconvert_exporter": "python",
   "pygments_lexer": "ipython3",
   "version": "3.7.7"
  }
 },
 "nbformat": 4,
 "nbformat_minor": 5
}
